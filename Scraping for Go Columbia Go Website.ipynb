{
 "cells": [
  {
   "cell_type": "markdown",
   "id": "careful-socket",
   "metadata": {},
   "source": [
    "# Scraping for Go Columbia Go Website"
   ]
  },
  {
   "cell_type": "code",
   "execution_count": 4,
   "id": "covered-fault",
   "metadata": {},
   "outputs": [],
   "source": [
    "from bs4 import BeautifulSoup\n",
    "import os\n",
    "import json\n",
    "\n",
    "from pymongo import MongoClient\n",
    "from dotenv import load_dotenv, find_dotenv\n",
    "from pprint import pprint"
   ]
  },
  {
   "cell_type": "markdown",
   "id": "unsigned-berlin",
   "metadata": {},
   "source": [
    "# Roster Scraping"
   ]
  },
  {
   "cell_type": "code",
   "execution_count": null,
   "id": "tribal-radical",
   "metadata": {},
   "outputs": [],
   "source": []
  },
  {
   "cell_type": "markdown",
   "id": "incident-norfolk",
   "metadata": {},
   "source": [
    "# Coaches Scraping"
   ]
  },
  {
   "cell_type": "code",
   "execution_count": null,
   "id": "comparable-lodge",
   "metadata": {},
   "outputs": [],
   "source": []
  },
  {
   "cell_type": "markdown",
   "id": "democratic-intention",
   "metadata": {},
   "source": [
    "# Schedule Scraping"
   ]
  },
  {
   "cell_type": "code",
   "execution_count": null,
   "id": "tired-rider",
   "metadata": {},
   "outputs": [],
   "source": []
  },
  {
   "cell_type": "markdown",
   "id": "breeding-delay",
   "metadata": {},
   "source": [
    "# Statistics Scraping"
   ]
  },
  {
   "cell_type": "code",
   "execution_count": null,
   "id": "decent-sharing",
   "metadata": {},
   "outputs": [],
   "source": []
  }
 ],
 "metadata": {
  "kernelspec": {
   "display_name": "goco-scrapers",
   "language": "python",
   "name": "goco-scrapers"
  },
  "language_info": {
   "codemirror_mode": {
    "name": "ipython",
    "version": 3
   },
   "file_extension": ".py",
   "mimetype": "text/x-python",
   "name": "python",
   "nbconvert_exporter": "python",
   "pygments_lexer": "ipython3",
   "version": "3.8.5"
  }
 },
 "nbformat": 4,
 "nbformat_minor": 5
}
